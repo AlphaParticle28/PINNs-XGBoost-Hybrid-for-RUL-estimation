{
 "cells": [
  {
   "cell_type": "code",
   "execution_count": 21,
   "id": "a75171dd",
   "metadata": {},
   "outputs": [],
   "source": [
    "import torch\n",
    "import pandas as pd\n",
    "import numpy as np\n",
    "import xgboost as xgb\n",
    "from sklearn.metrics import r2_score, mean_absolute_error\n",
    "\n",
    "from NN_Learner import neural, BatteryEmbedding, ParameterLearner"
   ]
  },
  {
   "cell_type": "code",
   "execution_count": 22,
   "id": "dced41e5",
   "metadata": {},
   "outputs": [
    {
     "name": "stderr",
     "output_type": "stream",
     "text": [
      "C:\\Users\\deban\\AppData\\Local\\Temp\\ipykernel_19272\\1480842114.py:10: FutureWarning: You are using `torch.load` with `weights_only=False` (the current default value), which uses the default pickle module implicitly. It is possible to construct malicious pickle data which will execute arbitrary code during unpickling (See https://github.com/pytorch/pytorch/blob/main/SECURITY.md#untrusted-models for more details). In a future release, the default value for `weights_only` will be flipped to `True`. This limits the functions that could be executed during unpickling. Arbitrary objects will no longer be allowed to be loaded via this mode unless they are explicitly allowlisted by the user via `torch.serialization.add_safe_globals`. We recommend you start setting `weights_only=True` for any use case where you don't have full control of the loaded file. Please open an issue on GitHub for any issues related to this experimental feature.\n",
      "  Emb.load_state_dict(torch.load('emb_model.pth'))\n",
      "C:\\Users\\deban\\AppData\\Local\\Temp\\ipykernel_19272\\1480842114.py:11: FutureWarning: You are using `torch.load` with `weights_only=False` (the current default value), which uses the default pickle module implicitly. It is possible to construct malicious pickle data which will execute arbitrary code during unpickling (See https://github.com/pytorch/pytorch/blob/main/SECURITY.md#untrusted-models for more details). In a future release, the default value for `weights_only` will be flipped to `True`. This limits the functions that could be executed during unpickling. Arbitrary objects will no longer be allowed to be loaded via this mode unless they are explicitly allowlisted by the user via `torch.serialization.add_safe_globals`. We recommend you start setting `weights_only=True` for any use case where you don't have full control of the loaded file. Please open an issue on GitHub for any issues related to this experimental feature.\n",
      "  ANN.load_state_dict(torch.load('ann_model.pth'))\n",
      "C:\\Users\\deban\\AppData\\Local\\Temp\\ipykernel_19272\\1480842114.py:12: FutureWarning: You are using `torch.load` with `weights_only=False` (the current default value), which uses the default pickle module implicitly. It is possible to construct malicious pickle data which will execute arbitrary code during unpickling (See https://github.com/pytorch/pytorch/blob/main/SECURITY.md#untrusted-models for more details). In a future release, the default value for `weights_only` will be flipped to `True`. This limits the functions that could be executed during unpickling. Arbitrary objects will no longer be allowed to be loaded via this mode unless they are explicitly allowlisted by the user via `torch.serialization.add_safe_globals`. We recommend you start setting `weights_only=True` for any use case where you don't have full control of the loaded file. Please open an issue on GitHub for any issues related to this experimental feature.\n",
      "  Param.load_state_dict(torch.load('param_model.pth'))\n"
     ]
    },
    {
     "data": {
      "text/plain": [
       "ParameterLearner(\n",
       "  (net): Sequential(\n",
       "    (0): Linear(in_features=7, out_features=64, bias=True)\n",
       "    (1): Tanh()\n",
       "    (2): Linear(in_features=64, out_features=64, bias=True)\n",
       "    (3): Tanh()\n",
       "    (4): Linear(in_features=64, out_features=3, bias=True)\n",
       "  )\n",
       ")"
      ]
     },
     "execution_count": 22,
     "metadata": {},
     "output_type": "execute_result"
    }
   ],
   "source": [
    "# Load the datasets\n",
    "train_df = pd.read_csv('train_data.csv')\n",
    "test_df = pd.read_csv('test_data.csv')\n",
    "\n",
    "# Load the models\n",
    "Emb = BatteryEmbedding(num_batteries=4, emb_dim=6)\n",
    "ANN = neural(emb_dim=6)\n",
    "Param = ParameterLearner(emb_dim=6)\n",
    "\n",
    "Emb.load_state_dict(torch.load('emb_model.pth'))\n",
    "ANN.load_state_dict(torch.load('ann_model.pth'))\n",
    "Param.load_state_dict(torch.load('param_model.pth'))\n",
    "\n",
    "Emb.eval()\n",
    "ANN.eval()\n",
    "Param.eval()"
   ]
  },
  {
   "cell_type": "code",
   "execution_count": 23,
   "id": "dd4d609a",
   "metadata": {},
   "outputs": [
    {
     "name": "stdout",
     "output_type": "stream",
     "text": [
      "PINN features generated. Shape of training embeddings: (508, 6)\n",
      "Shape of training parameters: (508, 3)\n"
     ]
    }
   ],
   "source": [
    "def generate_pinn_features(df, ann_model, emb_model, param_model):\n",
    "    with torch.no_grad():\n",
    "        \n",
    "        t = torch.tensor(df['t_normalized'].values, dtype=torch.float32).unsqueeze(1)\n",
    "        T_C_norm = torch.tensor(df['T_celsius_norm'].values, dtype=torch.float32).unsqueeze(1)\n",
    "        I = torch.tensor(df['I_amperes_norm'].values, dtype=torch.float32).unsqueeze(1)\n",
    "        bat_idx = torch.tensor(df['battery_idx'].values, dtype=torch.long)\n",
    "        \n",
    "        # Battery embeddings (Implicit features of the type of battery)\n",
    "        emb_features = emb_model(bat_idx)\n",
    "\n",
    "        # PINN's capacity prediction (Capacity)\n",
    "        c_pred_features = ann_model(t, T_C_norm, I, emb_features)\n",
    "\n",
    "        # Learned physical parameters (Ea, k, and n)\n",
    "        param_features = param_model(c_pred_features, emb_features)\n",
    "        \n",
    "        return emb_features.numpy(), param_features.numpy()\n",
    "\n",
    "# Features for training and test sets\n",
    "train_emb, train_params = generate_pinn_features(train_df, ANN, Emb, Param)\n",
    "test_emb, test_params = generate_pinn_features(test_df, ANN, Emb, Param)\n",
    "\n",
    "print(\"PINN features generated. Shape of training embeddings:\", train_emb.shape)\n",
    "print(\"Shape of training parameters:\", train_params.shape)"
   ]
  },
  {
   "cell_type": "code",
   "execution_count": 24,
   "id": "b092d54c",
   "metadata": {},
   "outputs": [
    {
     "name": "stdout",
     "output_type": "stream",
     "text": [
      "Hybrid datasets created. Shape of X_train: (508, 12)\n"
     ]
    }
   ],
   "source": [
    "original_features = ['t_normalized', 'T_celsius_norm', 'I_amperes_norm']\n",
    "\n",
    "train_emb_df = pd.DataFrame(train_emb, columns=[f'emb_{i}' for i in range(train_emb.shape[1])])\n",
    "train_params_df = pd.DataFrame(train_params, columns=['k', 'n', 'Ea'])\n",
    "\n",
    "test_emb_df = pd.DataFrame(test_emb, index=test_df.index, columns=[f'emb_{i}' for i in range(test_emb.shape[1])])\n",
    "test_params_df = pd.DataFrame(test_params, index=test_df.index, columns=['k', 'n', 'Ea'])\n",
    "\n",
    "X_train_hybrid = pd.concat([train_df[original_features], train_emb_df, train_params_df], axis=1)\n",
    "X_test_hybrid = pd.concat([test_df[original_features], test_emb_df, test_params_df], axis=1)\n",
    "\n",
    "y_train = train_df['C_target']\n",
    "y_test = test_df['C_target']\n",
    "\n",
    "print(\"Hybrid datasets created. Shape of X_train:\", X_train_hybrid.shape)"
   ]
  },
  {
   "cell_type": "code",
   "execution_count": 25,
   "id": "83e6fd5b",
   "metadata": {},
   "outputs": [
    {
     "name": "stdout",
     "output_type": "stream",
     "text": [
      "Training XGBoost model...\n",
      "Metrics\n",
      "Test R²: 0.998447\n",
      "Test MAE: 0.006109\n",
      "Test MAPE: 0.39%\n"
     ]
    }
   ],
   "source": [
    "xgb_reg = xgb.XGBRegressor(\n",
    "    n_estimators=1000,        \n",
    "    learning_rate=0.05,\n",
    "    max_depth=5,\n",
    "    objective='reg:squarederror',\n",
    "    random_state=42,\n",
    "    n_jobs=-1\n",
    ")\n",
    "\n",
    "print(\"Training XGBoost model...\")\n",
    "xgb_reg.fit(X_train_hybrid, y_train, \n",
    "          eval_set=[(X_test_hybrid, y_test)], \n",
    "          verbose=False)\n",
    "\n",
    "# Evaluation\n",
    "print(\"Metrics\")\n",
    "y_pred_xgb = xgb_reg.predict(X_test_hybrid)\n",
    "\n",
    "r2_xgb = r2_score(y_test, y_pred_xgb)\n",
    "mae_xgb = mean_absolute_error(y_test, y_pred_xgb)\n",
    "mape_xgb = np.mean(np.abs((y_test - y_pred_xgb) / y_test)) * 100\n",
    "\n",
    "print(f\"Test R²: {r2_xgb:.6f}\")\n",
    "print(f\"Test MAE: {mae_xgb:.6f}\")\n",
    "print(f\"Test MAPE: {mape_xgb:.2f}%\")"
   ]
  },
  {
   "cell_type": "code",
   "execution_count": 26,
   "id": "51d2d795",
   "metadata": {},
   "outputs": [
    {
     "data": {
      "image/png": "[encoded data removed]",
      "text/plain": [
       "<Figure size 640x480 with 1 Axes>"
      ]
     },
     "metadata": {},
     "output_type": "display_data"
    }
   ],
   "source": [
    "# Add this to your XGBoost_Hybrid.ipynb\n",
    "import matplotlib.pyplot as plt\n",
    "\n",
    "xgb.plot_importance(xgb_reg)\n",
    "plt.show()"
   ]
  },
  {
   "cell_type": "code",
   "execution_count": 27,
   "id": "54d940c5",
   "metadata": {},
   "outputs": [],
   "source": [
    "xgb_reg.save_model('xgb_hybrid_model.json')"
   ]
  }
 ],
 "metadata": {
  "kernelspec": {
   "display_name": "Python 3",
   "language": "python",
   "name": "python3"
  },
  "language_info": {
   "codemirror_mode": {
    "name": "ipython",
    "version": 3
   },
   "file_extension": ".py",
   "mimetype": "text/x-python",
   "name": "python",
   "nbconvert_exporter": "python",
   "pygments_lexer": "ipython3",
   "version": "3.12.3"
  }
 },
 "nbformat": 4,
 "nbformat_minor": 5
}
